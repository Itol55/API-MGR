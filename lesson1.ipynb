{
  "nbformat": 4,
  "nbformat_minor": 0,
  "metadata": {
    "colab": {
      "name": "lesson1.ipynb",
      "provenance": [],
      "collapsed_sections": []
    },
    "kernelspec": {
      "name": "python3",
      "display_name": "Python 3"
    },
    "language_info": {
      "name": "python"
    }
  },
  "cells": [
    {
      "cell_type": "code",
      "metadata": {
        "colab": {
          "base_uri": "https://localhost:8080/"
        },
        "id": "eGUwXst3osT-",
        "outputId": "a81c0b7d-4118-4828-c8c9-4f59649c840d"
      },
      "source": [
        "print( \"Lorem ipsum dolor sit amet, consectetur adipiscing elit,\\nsed do eiusmod tempor incididunt ut labore\\net dolore magna aliqua\" )"
      ],
      "execution_count": 1,
      "outputs": [
        {
          "output_type": "stream",
          "name": "stdout",
          "text": [
            "Lorem ipsum dolor sit amet, consectetur adipiscing elit,\n",
            "sed do eiusmod tempor incididunt ut labore\n",
            "et dolore magna aliqua\n"
          ]
        }
      ]
    },
    {
      "cell_type": "code",
      "metadata": {
        "colab": {
          "base_uri": "https://localhost:8080/"
        },
        "id": "853vFCgTowxk",
        "outputId": "05be85b0-4c94-4aad-c3fc-503acbd9623a"
      },
      "source": [
        "varInt = 5\n",
        "varFloat = 3.14\n",
        "varString = \"text\"\n",
        "\n",
        "print( varInt, varFloat, varString )"
      ],
      "execution_count": 2,
      "outputs": [
        {
          "output_type": "stream",
          "name": "stdout",
          "text": [
            "5 3.14 text\n"
          ]
        }
      ]
    },
    {
      "cell_type": "code",
      "metadata": {
        "colab": {
          "base_uri": "https://localhost:8080/"
        },
        "id": "Db17iquzoyIG",
        "outputId": "e814cf82-c989-46f2-c2d2-cd5f8ac3e20b"
      },
      "source": [
        "varFloatA = 5.5\n",
        "varIntB = 3\n",
        "\n",
        "print( \"multiplication:\", varFloatA * varIntB )\n",
        "print( \"division:\", round( varFloatA / varIntB, 3 ) )\n",
        "print( \"adding\", varFloatA + varIntB )\n",
        "print( \"subtraction:\", varFloatA - varIntB )\n",
        "print( \"remainder of dividing:\", varFloatA % varIntB )\n",
        "print( \"exponentiation:\", varFloatA ** varIntB )"
      ],
      "execution_count": 3,
      "outputs": [
        {
          "output_type": "stream",
          "name": "stdout",
          "text": [
            "multiplication: 16.5\n",
            "division: 1.833\n",
            "adding 8.5\n",
            "subtraction: 2.5\n",
            "remainder of dividing: 2.5\n",
            "exponentiation: 166.375\n"
          ]
        }
      ]
    },
    {
      "cell_type": "code",
      "metadata": {
        "colab": {
          "base_uri": "https://localhost:8080/"
        },
        "id": "0DdFbRzFozXU",
        "outputId": "6287743c-dcb5-482c-a858-baac5114ddf5"
      },
      "source": [
        "varString1 = \"Did you ever hear the tragedy\"\n",
        "varString2 = \"of Darth Plagueis The Wise?\"\n",
        "\n",
        "varString3 = varString1 + \" <- pierwsza zmienna | druga zmienna-> \" + varString2\n",
        "print( varString3 )\n",
        "\n",
        "print( varString1, \"<- pierwsza zmienna | druga zmienna->\", varString2 )"
      ],
      "execution_count": 4,
      "outputs": [
        {
          "output_type": "stream",
          "name": "stdout",
          "text": [
            "Did you ever hear the tragedy <- pierwsza zmienna | druga zmienna-> of Darth Plagueis The Wise?\n",
            "Did you ever hear the tragedy <- pierwsza zmienna | druga zmienna-> of Darth Plagueis The Wise?\n"
          ]
        }
      ]
    }
  ]
}