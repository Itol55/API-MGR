{
  "nbformat": 4,
  "nbformat_minor": 0,
  "metadata": {
    "colab": {
      "name": "pawel_labuz_1_numerZajec_1.ipynb",
      "provenance": [],
      "collapsed_sections": []
    },
    "kernelspec": {
      "name": "python3",
      "display_name": "Python 3"
    },
    "language_info": {
      "name": "python"
    }
  },
  "cells": [
    {
      "cell_type": "code",
      "metadata": {
        "colab": {
          "base_uri": "https://localhost:8080/"
        },
        "id": "eGUwXst3osT-",
        "outputId": "a81c0b7d-4118-4828-c8c9-4f59649c840d"
      },
      "source": [
        "print( \"Lorem ipsum dolor sit amet, consectetur adipiscing elit,\\nsed do eiusmod tempor incididunt ut labore\\net dolore magna aliqua\" )"
      ],
      "execution_count": 1,
      "outputs": [
        {
          "output_type": "stream",
          "name": "stdout",
          "text": [
            "Lorem ipsum dolor sit amet, consectetur adipiscing elit,\n",
            "sed do eiusmod tempor incididunt ut labore\n",
            "et dolore magna aliqua\n"
          ]
        }
      ]
    },
    {
      "cell_type": "code",
      "metadata": {
        "colab": {
          "base_uri": "https://localhost:8080/"
        },
        "id": "853vFCgTowxk",
        "outputId": "05be85b0-4c94-4aad-c3fc-503acbd9623a"
      },
      "source": [
        "varInt = 5\n",
        "varFloat = 3.14\n",
        "varString = \"text\"\n",
        "varBool = True\n",
        "\n",
        "print( varInt, varFloat, varString, varBool )"
      ],
      "execution_count": 2,
      "outputs": [
        {
          "output_type": "stream",
          "name": "stdout",
          "text": [
            "5 3.14 text True\n"
          ]
        }
      ]
    },
    {
      "cell_type": "code",
      "metadata": {
        "colab": {
          "base_uri": "https://localhost:8080/"
        },
        "id": "Db17iquzoyIG",
        "outputId": "5693bb97-fbfa-4f3b-82d0-d422d7467121"
      },
      "source": [
        "varIntA = 5\n",
        "varIntB = 3\n",
        "\n",
        "print( \"mnozenie:\", varIntA * varIntB )\n",
        "print( \"dzielenie:\", round( varIntA / varIntB, 2 ) )\n",
        "print( \"dodawanie\", varIntA + varIntB )\n",
        "print( \"odejmowanie:\", varIntA - varIntB )\n",
        "print( \"reszta:\", varIntA % varIntB )\n",
        "print( \"potegowanie:\", varIntA ** varIntB )"
      ],
      "execution_count": 12,
      "outputs": [
        {
          "output_type": "stream",
          "name": "stdout",
          "text": [
            "mnozenie: 15\n",
            "dzielenie: 1.67\n",
            "dodawanie 8\n",
            "odejmowanie: 2\n",
            "reszta: 2\n",
            "potegowanie: 125\n"
          ]
        }
      ]
    },
    {
      "cell_type": "code",
      "metadata": {
        "colab": {
          "base_uri": "https://localhost:8080/"
        },
        "id": "NjXFR7-Fqg-0",
        "outputId": "be69f57a-ac6c-4448-ac6b-65d970a62a44"
      },
      "source": [
        "varFloatA = 5.5\n",
        "varIntB = 3\n",
        "\n",
        "print( varFloatA == varIntB )\n",
        "print( varFloatA != varIntB )\n",
        "print( varFloatA > varIntB )\n",
        "print( varFloatA < varIntB )\n",
        "print( varFloatA >= varIntB )\n",
        "print( varFloatA <= varIntB )"
      ],
      "execution_count": 9,
      "outputs": [
        {
          "output_type": "stream",
          "name": "stdout",
          "text": [
            "False\n",
            "True\n",
            "True\n",
            "False\n",
            "True\n",
            "False\n"
          ]
        }
      ]
    },
    {
      "cell_type": "code",
      "metadata": {
        "colab": {
          "base_uri": "https://localhost:8080/"
        },
        "id": "0DdFbRzFozXU",
        "outputId": "6287743c-dcb5-482c-a858-baac5114ddf5"
      },
      "source": [
        "varString1 = \"Did you ever hear the tragedy\"\n",
        "varString2 = \"of Darth Plagueis The Wise?\"\n",
        "\n",
        "varString3 = varString1 + \" <- pierwsza zmienna | druga zmienna-> \" + varString2\n",
        "print( varString3 )\n",
        "\n",
        "print( varString1, \"<- pierwsza zmienna | druga zmienna->\", varString2 )"
      ],
      "execution_count": 4,
      "outputs": [
        {
          "output_type": "stream",
          "name": "stdout",
          "text": [
            "Did you ever hear the tragedy <- pierwsza zmienna | druga zmienna-> of Darth Plagueis The Wise?\n",
            "Did you ever hear the tragedy <- pierwsza zmienna | druga zmienna-> of Darth Plagueis The Wise?\n"
          ]
        }
      ]
    }
  ]
}
